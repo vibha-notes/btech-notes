{
 "cells": [
  {
   "cell_type": "code",
   "execution_count": 18,
   "metadata": {
    "collapsed": true
   },
   "outputs": [],
   "source": [
    "#QUESTION\n",
    "#consider tossing a coin, it's a binomial distribution. Approximate to normal distribution of tossing a coin \n",
    "#with number of tosses equal to 100 "
   ]
  },
  {
   "cell_type": "code",
   "execution_count": 14,
   "metadata": {
    "collapsed": false
   },
   "outputs": [
    {
     "name": "stdout",
     "output_type": "stream",
     "text": [
      "P( 46 <= X <= 54 ) is: 0.6317983826733039\n",
      "P( 45 <= X <= 55 ) is: 0.7287469759261653\n",
      "P( 0 <= X <= 45 ) is: 0.1841008086633481\n"
     ]
    }
   ],
   "source": [
    "#using only binomial distribution\n",
    "\n",
    "#bin(n ,p)\n",
    "%matplotlib inline\n",
    "from math import factorial as fact\n",
    "import matplotlib.pyplot as plt\n",
    "import numpy as np\n",
    "import math\n",
    "\n",
    "\n",
    "def combination(n, x):\n",
    "    comb = fact(n)/(fact(x) * fact(n-x))\n",
    "    return comb\n",
    "\n",
    "def bin(n, p, title):\n",
    "    pmf = []\n",
    "    for x in range(0, n+1):\n",
    "        comb = combination(n, x)\n",
    "        prob = comb * pow(p,x) * pow((1-p), (n-x))\n",
    "        pmf.append(prob)\n",
    "    return pmf\n",
    "\n",
    "def prob(a,b,pmf):\n",
    "    sum = 0\n",
    "    for i in range(a,b+1):\n",
    "        sum = sum + pmf[i]\n",
    "    print('P(',a,'<= X <=',b,') is:',sum)\n",
    "    \n",
    "#returns(pmf) values of all probabilities from 0 to n \n",
    "pmf = bin(100, 0.5, 'n = 100, p = 0.5')\n",
    "\n",
    "#since we want the values between 46 to 54\n",
    "prob(46, 54, pmf)\n",
    "\n",
    "#if we want values from 45 to 55\n",
    "prob(45, 55, pmf)\n",
    "\n",
    "#if we want values below 45\n",
    "prob(0, 45, pmf)\n"
   ]
  },
  {
   "cell_type": "code",
   "execution_count": 15,
   "metadata": {
    "collapsed": false
   },
   "outputs": [
    {
     "name": "stdout",
     "output_type": "stream",
     "text": [
      "50.0 5.0\n",
      "P( 45.5 < X < 54.5 ) = 0.6318797493064809\n",
      "P( 44.5 < X < 55.5 ) = 0.7286678781072347\n",
      "P( 0 < X < 45.5 ) = 0.18406012534675947\n"
     ]
    }
   ],
   "source": [
    "#using normal distribution after continuity correction\n",
    "\n",
    "# using z-table\n",
    "#Area in an interval - in the centre - Continuity correction improves the result.\n",
    "from scipy.stats import norm\n",
    "import math\n",
    "\n",
    "mu = (100 * 0.5)\n",
    "sigma = math.sqrt(100 * 0.5 * (1-0.5))\n",
    "print(mu, sigma)\n",
    "\n",
    "def prob(a,b):\n",
    "    z1 = (a - mu)/sigma\n",
    "    z2 = (b - mu)/sigma\n",
    "    print('P(',a,'< X <', b,') =',norm.cdf(z2) - norm.cdf(z1))\n",
    "    \n",
    "#since we want the values between 46 to 54\n",
    "prob(45.5, 54.5)\n",
    "\n",
    "#if we want values from 45 to 55\n",
    "prob(44.5, 55.5)\n",
    "\n",
    "#if we want values below 45\n",
    "prob(0, 45.5)"
   ]
  },
  {
   "cell_type": "code",
   "execution_count": 16,
   "metadata": {
    "collapsed": false
   },
   "outputs": [
    {
     "name": "stdout",
     "output_type": "stream",
     "text": [
      "50.0 5.0\n",
      "P( 46 < X < 54 ) = 0.5762892028332067\n",
      "P( 45 < X < 55 ) = 0.6826894921370859\n",
      "P( 0 < X < 45 ) = 0.15865525393145707\n"
     ]
    }
   ],
   "source": [
    "#using normal distribution without continuity correction\n",
    "\n",
    "# using z-table\n",
    "#Area in an interval - in the centre - Continuity correction improves the result.\n",
    "from scipy.stats import norm\n",
    "import math\n",
    "\n",
    "mu = (100 * 0.5)\n",
    "sigma = math.sqrt(100 * 0.5 * (1-0.5))\n",
    "print(mu, sigma)\n",
    "\n",
    "def prob1(a,b):\n",
    "    z1 = (a - mu)/sigma\n",
    "    z2 = (b - mu)/sigma\n",
    "    print('P(',a,'< X <', b,') =',norm.cdf(z2) - norm.cdf(z1))\n",
    "    \n",
    "#since we want the values between 46 to 54\n",
    "prob1(46, 54)\n",
    "\n",
    "#if we want values from 45 to 55\n",
    "prob1(45, 55)\n",
    "\n",
    "#if we want values below 45\n",
    "prob1(0, 45)"
   ]
  },
  {
   "cell_type": "code",
   "execution_count": null,
   "metadata": {
    "collapsed": true
   },
   "outputs": [],
   "source": []
  }
 ],
 "metadata": {
  "kernelspec": {
   "display_name": "Python 3",
   "language": "python",
   "name": "python3"
  },
  "language_info": {
   "codemirror_mode": {
    "name": "ipython",
    "version": 3
   },
   "file_extension": ".py",
   "mimetype": "text/x-python",
   "name": "python",
   "nbconvert_exporter": "python",
   "pygments_lexer": "ipython3",
   "version": "3.6.0"
  }
 },
 "nbformat": 4,
 "nbformat_minor": 1
}
