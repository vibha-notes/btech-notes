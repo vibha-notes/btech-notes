{
 "cells": [
  {
   "cell_type": "code",
   "execution_count": 1,
   "metadata": {
    "collapsed": false,
    "scrolled": false
   },
   "outputs": [
    {
     "name": "stdout",
     "output_type": "stream",
     "text": [
      "z-score: 0.6744897501960817\n"
     ]
    }
   ],
   "source": [
    "#Z-score for given area\n",
    "\n",
    "import matplotlib.pyplot as plt\n",
    "import numpy as np\n",
    "from scipy.stats import norm\n",
    "\n",
    "area = 0.75     #area under the graph\n",
    "#convert values to z-score\n",
    "print('z-score:',norm.ppf(area))"
   ]
  },
  {
   "cell_type": "code",
   "execution_count": 4,
   "metadata": {
    "collapsed": false
   },
   "outputs": [
    {
     "name": "stdout",
     "output_type": "stream",
     "text": [
      "Finding P(z < 0.875 )\n",
      "Area to left of x :  0.8092130471474893\n",
      "Finding P(z > 0.875 )\n",
      "Area to right of x :  0.19078695285251068\n"
     ]
    }
   ],
   "source": [
    "#Given X ~ N(mu, var)\n",
    "#Finding Probabilities\n",
    "\n",
    "import matplotlib.pyplot as plt\n",
    "import numpy as np\n",
    "from scipy.stats import norm\n",
    "\n",
    "mu = 40\n",
    "x = 47\n",
    "sigma = 8\n",
    "z = (x - mu)/sigma\n",
    "print('Finding P(z <',z,')')\n",
    "print('Area to left of x : ',norm.cdf(z))\n",
    "\n",
    "print('Finding P(z >', z,')')\n",
    "print('Area to right of x : ',1 - norm.cdf(z))\n",
    "#since total area under the graph is 1\n"
   ]
  },
  {
   "cell_type": "code",
   "execution_count": 5,
   "metadata": {
    "collapsed": false
   },
   "outputs": [
    {
     "name": "stdout",
     "output_type": "stream",
     "text": [
      "Finding P( -1.1 < z < 1.1 )\n",
      "Area to left of a :  0.13566606094638267\n",
      "Area to left of b :  0.8643339390536173\n",
      "Area to between a and b:  0.7286678781072347\n"
     ]
    }
   ],
   "source": [
    "#Area in an interval between two values a and b\n",
    "from scipy.stats import norm\n",
    "def prob(a,b):\n",
    "    z1 = (a - mu)/sigma\n",
    "    z2 = (b - mu)/sigma\n",
    "    print('Finding P(',z1,'< z <', z2,')')\n",
    "    print('Area to left of a : ',norm.cdf(z1))\n",
    "    print('Area to left of b : ',norm.cdf(z2))\n",
    "    print('Area to between a and b: ',norm.cdf(z2) - norm.cdf(z1))\n",
    "    \n",
    "mu = 50\n",
    "sigma = 5\n",
    "prob(44.5, 55.5)   "
   ]
  },
  {
   "cell_type": "code",
   "execution_count": 3,
   "metadata": {
    "collapsed": false
   },
   "outputs": [
    {
     "name": "stdout",
     "output_type": "stream",
     "text": [
      "required area is : 0.0807566592337704\n"
     ]
    }
   ],
   "source": [
    "from scipy.stats import norm\n",
    "def fun(z1, z2):\n",
    "    return norm.cdf(z1) - norm.cdf(z2)\n",
    "\n",
    "a = 65\n",
    "b = 32\n",
    "mu=25\n",
    "sigma=5\n",
    "z1 = (a-mu)/sigma\n",
    "z2 = (b-mu)/sigma\n",
    "area = fun(z1, z2)\n",
    "print(\"required area is :\",area)"
   ]
  },
  {
   "cell_type": "code",
   "execution_count": 4,
   "metadata": {
    "collapsed": false
   },
   "outputs": [
    {
     "data": {
      "image/png": "[encoded data removed]",
      "text/plain": [
       "<matplotlib.figure.Figure at 0x18aa826b358>"
      ]
     },
     "metadata": {},
     "output_type": "display_data"
    }
   ],
   "source": [
    "#!/usr/bin/env python\n",
    "\n",
    "import numpy as np\n",
    "import matplotlib.mlab as mlab\n",
    "import matplotlib.pyplot as plt\n",
    "\n",
    "# example data\n",
    "mu = 100 # mean of distribution\n",
    "sigma = 15 # standard deviation of distribution\n",
    "x = mu + sigma * np.random.randn(10000)\n",
    "\n",
    "num_bins = 20\n",
    "# the histogram of the data\n",
    "n, bins, patches = plt.hist(x, num_bins, normed=1, facecolor='blue', alpha=0.5)\n",
    "\n",
    "# add a 'best fit' line\n",
    "y = mlab.normpdf(bins, mu, sigma)\n",
    "plt.plot(bins, y, 'r--')\n",
    "plt.xlabel('Smarts')\n",
    "plt.ylabel('Probability')\n",
    "plt.title(r'Histogram of IQ: $\\mu=100$, $\\sigma=15$')\n",
    "\n",
    "# Tweak spacing to prevent clipping of ylabel\n",
    "plt.subplots_adjust(left=0.15)\n",
    "plt.show()"
   ]
  },
  {
   "cell_type": "code",
   "execution_count": null,
   "metadata": {
    "collapsed": true
   },
   "outputs": [],
   "source": []
  }
 ],
 "metadata": {
  "kernelspec": {
   "display_name": "Python 3",
   "language": "python",
   "name": "python3"
  },
  "language_info": {
   "codemirror_mode": {
    "name": "ipython",
    "version": 3
   },
   "file_extension": ".py",
   "mimetype": "text/x-python",
   "name": "python",
   "nbconvert_exporter": "python",
   "pygments_lexer": "ipython3",
   "version": "3.6.0"
  }
 },
 "nbformat": 4,
 "nbformat_minor": 1
}
