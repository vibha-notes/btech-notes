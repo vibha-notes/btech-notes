{
 "cells": [
  {
   "cell_type": "code",
   "execution_count": 3,
   "metadata": {
    "collapsed": false
   },
   "outputs": [
    {
     "name": "stdout",
     "output_type": "stream",
     "text": [
      "        one       two     three\n",
      "a  1.239184 -1.454827 -0.286104\n",
      "b       NaN       NaN       NaN\n",
      "c -0.779438  0.411418  0.746480\n",
      "d       NaN       NaN       NaN\n",
      "e -1.799040  1.350684 -0.282046\n",
      "f -0.590477  0.603035  0.254525\n",
      "g       NaN       NaN       NaN\n",
      "h  0.048683  1.159679 -1.306797\n",
      "a    False\n",
      "b     True\n",
      "c    False\n",
      "d     True\n",
      "e    False\n",
      "f    False\n",
      "g     True\n",
      "h    False\n",
      "Name: one, dtype: bool\n"
     ]
    }
   ],
   "source": [
    "# import the pandas library\n",
    "import pandas as pd\n",
    "import numpy as np\n",
    "\n",
    "df = pd.DataFrame(np.random.randn(5, 3), index=['a', 'c', 'e', 'f',\n",
    "'h'],columns=['one', 'two', 'three'])\n",
    "\n",
    "df = df.reindex(['a', 'b', 'c', 'd', 'e', 'f', 'g', 'h'])\n",
    "\n",
    "print( df)\n",
    "print (df['one'].isnull())"
   ]
  },
  {
   "cell_type": "code",
   "execution_count": 4,
   "metadata": {
    "collapsed": false
   },
   "outputs": [
    {
     "name": "stdout",
     "output_type": "stream",
     "text": [
      "NaN replaced with '0':\n",
      "        one       two     three\n",
      "a  1.239184 -1.454827 -0.286104\n",
      "b  0.000000  0.000000  0.000000\n",
      "c -0.779438  0.411418  0.746480\n",
      "d  0.000000  0.000000  0.000000\n",
      "e -1.799040  1.350684 -0.282046\n",
      "f -0.590477  0.603035  0.254525\n",
      "g  0.000000  0.000000  0.000000\n",
      "h  0.048683  1.159679 -1.306797\n"
     ]
    }
   ],
   "source": [
    "print (\"NaN replaced with '0':\")\n",
    "print( df.fillna(0))"
   ]
  },
  {
   "cell_type": "code",
   "execution_count": 5,
   "metadata": {
    "collapsed": false
   },
   "outputs": [
    {
     "name": "stdout",
     "output_type": "stream",
     "text": [
      "        one       two     three\n",
      "a  1.239184 -1.454827 -0.286104\n",
      "b       NaN       NaN       NaN\n",
      "c -0.779438  0.411418  0.746480\n",
      "d       NaN       NaN       NaN\n",
      "e -1.799040  1.350684 -0.282046\n",
      "f -0.590477  0.603035  0.254525\n",
      "g       NaN       NaN       NaN\n",
      "h  0.048683  1.159679 -1.306797\n",
      "        one       two     three\n",
      "a  1.239184 -1.454827 -0.286104\n",
      "b  1.239184 -1.454827 -0.286104\n",
      "c -0.779438  0.411418  0.746480\n",
      "d -0.779438  0.411418  0.746480\n",
      "e -1.799040  1.350684 -0.282046\n",
      "f -0.590477  0.603035  0.254525\n",
      "g -0.590477  0.603035  0.254525\n",
      "h  0.048683  1.159679 -1.306797\n"
     ]
    }
   ],
   "source": [
    "print(df)\n",
    "print( df.fillna(method='pad'))"
   ]
  },
  {
   "cell_type": "code",
   "execution_count": 6,
   "metadata": {
    "collapsed": false
   },
   "outputs": [
    {
     "name": "stdout",
     "output_type": "stream",
     "text": [
      "        one       two     three\n",
      "a  1.239184 -1.454827 -0.286104\n",
      "b       NaN       NaN       NaN\n",
      "c -0.779438  0.411418  0.746480\n",
      "d       NaN       NaN       NaN\n",
      "e -1.799040  1.350684 -0.282046\n",
      "f -0.590477  0.603035  0.254525\n",
      "g       NaN       NaN       NaN\n",
      "h  0.048683  1.159679 -1.306797\n",
      "        one       two     three\n",
      "a  1.239184 -1.454827 -0.286104\n",
      "b -0.779438  0.411418  0.746480\n",
      "c -0.779438  0.411418  0.746480\n",
      "d -1.799040  1.350684 -0.282046\n",
      "e -1.799040  1.350684 -0.282046\n",
      "f -0.590477  0.603035  0.254525\n",
      "g  0.048683  1.159679 -1.306797\n",
      "h  0.048683  1.159679 -1.306797\n"
     ]
    }
   ],
   "source": [
    "print(df)\n",
    "print( df.fillna(method='bfill'))"
   ]
  },
  {
   "cell_type": "code",
   "execution_count": 7,
   "metadata": {
    "collapsed": false
   },
   "outputs": [
    {
     "name": "stdout",
     "output_type": "stream",
     "text": [
      "        one       two     three\n",
      "a  1.239184 -1.454827 -0.286104\n",
      "b       NaN       NaN       NaN\n",
      "c -0.779438  0.411418  0.746480\n",
      "d       NaN       NaN       NaN\n",
      "e -1.799040  1.350684 -0.282046\n",
      "f -0.590477  0.603035  0.254525\n",
      "g       NaN       NaN       NaN\n",
      "h  0.048683  1.159679 -1.306797\n",
      "        one       two     three\n",
      "a  1.239184 -1.454827 -0.286104\n",
      "c -0.779438  0.411418  0.746480\n",
      "e -1.799040  1.350684 -0.282046\n",
      "f -0.590477  0.603035  0.254525\n",
      "h  0.048683  1.159679 -1.306797\n"
     ]
    }
   ],
   "source": [
    "print(df)\n",
    "print( df.dropna())"
   ]
  },
  {
   "cell_type": "code",
   "execution_count": 8,
   "metadata": {
    "collapsed": false
   },
   "outputs": [
    {
     "name": "stdout",
     "output_type": "stream",
     "text": [
      "        one       two     three\n",
      "a  1.239184 -1.454827 -0.286104\n",
      "b  0.229873 -0.521705  0.230188\n",
      "c -0.779438  0.411418  0.746480\n",
      "d -1.289239  0.881051  0.232217\n",
      "e -1.799040  1.350684 -0.282046\n",
      "f -0.590477  0.603035  0.254525\n",
      "g -0.270897  0.881357 -0.526136\n",
      "h  0.048683  1.159679 -1.306797\n"
     ]
    }
   ],
   "source": [
    "#Interpolation of immediate data before and after it (average is taken)\n",
    "\n",
    "print(df.interpolate())"
   ]
  },
  {
   "cell_type": "code",
   "execution_count": null,
   "metadata": {
    "collapsed": true
   },
   "outputs": [],
   "source": []
  }
 ],
 "metadata": {
  "kernelspec": {
   "display_name": "Python 3",
   "language": "python",
   "name": "python3"
  },
  "language_info": {
   "codemirror_mode": {
    "name": "ipython",
    "version": 3
   },
   "file_extension": ".py",
   "mimetype": "text/x-python",
   "name": "python",
   "nbconvert_exporter": "python",
   "pygments_lexer": "ipython3",
   "version": "3.6.0"
  }
 },
 "nbformat": 4,
 "nbformat_minor": 2
}
