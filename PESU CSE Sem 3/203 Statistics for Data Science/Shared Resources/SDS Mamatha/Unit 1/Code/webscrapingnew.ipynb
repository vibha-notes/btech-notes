{
 "cells": [
  {
   "cell_type": "code",
   "execution_count": 5,
   "metadata": {
    "collapsed": false
   },
   "outputs": [
    {
     "name": "stderr",
     "output_type": "stream",
     "text": [
      "C:\\Users\\MHR\\AppData\\Local\\Continuum\\Anaconda3\\lib\\site-packages\\urllib3\\connectionpool.py:852: InsecureRequestWarning: Unverified HTTPS request is being made. Adding certificate verification is strongly advised. See: https://urllib3.readthedocs.io/en/latest/advanced-usage.html#ssl-warnings\n",
      "  InsecureRequestWarning)\n",
      "C:\\Users\\MHR\\AppData\\Local\\Continuum\\Anaconda3\\lib\\site-packages\\bs4\\__init__.py:181: UserWarning: No parser was explicitly specified, so I'm using the best available HTML parser for this system (\"lxml\"). This usually isn't a problem, but if you run this code on another system, or in a different virtual environment, it may use a different parser and behave differently.\n",
      "\n",
      "The code that caused this warning is on line 193 of the file C:\\Users\\MHR\\AppData\\Local\\Continuum\\Anaconda3\\lib\\runpy.py. To get rid of this warning, change code that looks like this:\n",
      "\n",
      " BeautifulSoup([your markup])\n",
      "\n",
      "to this:\n",
      "\n",
      " BeautifulSoup([your markup], \"lxml\")\n",
      "\n",
      "  markup_type=markup_type))\n"
     ]
    }
   ],
   "source": [
    "#importing beautifulSoup  library\n",
    "from bs4 import BeautifulSoup\n",
    "#Open the URL url, which can be either a string or a Request object\n",
    "import urllib3\n",
    "\n",
    "#To scrape a url\n",
    "#url = 'https://www.pes.edu'\n",
    "url = 'http://www.tutorialspoint.com'\n",
    "\n",
    "#returns a pool manager object\n",
    "http = urllib3.PoolManager()   \n",
    "\n",
    "#returns a HTTPresponse object\n",
    "response = http.request('GET', url)\n",
    "\n",
    "#the whole webpage is returned on calling this function(works like Ctrl+u)\n",
    "soup = BeautifulSoup(response.data)\n",
    "\n",
    "#returns title of the webpage\n",
    "title_of_page = soup.title\n",
    "\n",
    "#returns list of all the links with <a> tag\n",
    "links = soup.findAll(\"a\")   "
   ]
  },
  {
   "cell_type": "code",
   "execution_count": 6,
   "metadata": {
    "collapsed": false
   },
   "outputs": [
    {
     "name": "stderr",
     "output_type": "stream",
     "text": [
      "C:\\Users\\MHR\\AppData\\Local\\Continuum\\Anaconda3\\lib\\site-packages\\urllib3\\connectionpool.py:852: InsecureRequestWarning: Unverified HTTPS request is being made. Adding certificate verification is strongly advised. See: https://urllib3.readthedocs.io/en/latest/advanced-usage.html#ssl-warnings\n",
      "  InsecureRequestWarning)\n"
     ]
    },
    {
     "data": {
      "text/plain": [
       "44735"
      ]
     },
     "execution_count": 6,
     "metadata": {},
     "output_type": "execute_result"
    }
   ],
   "source": [
    "#open a url and save it offline\n",
    "response = http.request('GET', url)\n",
    "fout = open(\"downloaded.html\", 'w')\n",
    "fout.write(str(response.data, 'utf-8'))"
   ]
  },
  {
   "cell_type": "code",
   "execution_count": 7,
   "metadata": {
    "collapsed": false
   },
   "outputs": [
    {
     "name": "stderr",
     "output_type": "stream",
     "text": [
      "C:\\Users\\MHR\\AppData\\Local\\Continuum\\Anaconda3\\lib\\site-packages\\bs4\\__init__.py:181: UserWarning: No parser was explicitly specified, so I'm using the best available HTML parser for this system (\"lxml\"). This usually isn't a problem, but if you run this code on another system, or in a different virtual environment, it may use a different parser and behave differently.\n",
      "\n",
      "The code that caused this warning is on line 193 of the file C:\\Users\\MHR\\AppData\\Local\\Continuum\\Anaconda3\\lib\\runpy.py. To get rid of this warning, change code that looks like this:\n",
      "\n",
      " BeautifulSoup([your markup])\n",
      "\n",
      "to this:\n",
      "\n",
      " BeautifulSoup([your markup], \"lxml\")\n",
      "\n",
      "  markup_type=markup_type))\n"
     ]
    },
    {
     "name": "stdout",
     "output_type": "stream",
     "text": [
      "printing all the links in the page : \n",
      "\n",
      "https://www.tutorialspoint.com/index.htm\n",
      "https://www.tutorialspoint.com/about/about_careers.htm\n",
      "https://www.tutorialspoint.com/questions/index.php\n",
      "https://www.tutorialspoint.com/online_dev_tools.htm\n",
      "https://www.tutorialspoint.com/codingground.htm\n",
      "https://www.tutorialspoint.com/current_affairs.htm\n",
      "https://www.tutorialspoint.com/upsc_ias_exams.htm\n",
      "https://www.tutorialspoint.com/tutor_connect/index.php\n",
      "https://www.tutorialspoint.com/whiteboard.htm\n",
      "https://www.tutorialspoint.com/netmeeting.php\n",
      "https://www.tutorialspoint.com/articles/\n",
      "https://www.tutorialspoint.com/index.htm\n",
      "https://www.tutorialspoint.com/tutorialslibrary.htm\n",
      "https://www.tutorialspoint.com/videotutorials/index.htm\n",
      "https://store.tutorialspoint.com\n",
      "https://www.tutorialspoint.com/gate_exams_tutorials.htm\n",
      "https://www.tutorialspoint.com/html_online_training/index.asp\n",
      "https://www.tutorialspoint.com/css_online_training/index.asp\n",
      "https://www.tutorialspoint.com/3d_animation_online_training/index.asp\n",
      "https://www.tutorialspoint.com/swift_4_online_training/index.asp\n",
      "https://www.tutorialspoint.com/blockchain_online_training/index.asp\n",
      "https://www.tutorialspoint.com/reactjs_online_training/index.asp\n",
      "https://www.tutorix.com\n",
      "https://www.tutorialspoint.com/tutorialslibrary.htm\n",
      "https://www.tutorialspoint.com/bitcoin/index.htm\n",
      "https://www.tutorialspoint.com/blockchain/index.htm\n",
      "https://www.tutorialspoint.com/blue_prism/index.htm\n",
      "https://www.tutorialspoint.com/ethereum/index.htm\n",
      "https://www.tutorialspoint.com/openshift/index.htm\n",
      "https://www.tutorialspoint.com/python_blockchain/index.htm\n",
      "https://www.tutorialspoint.com/latest_technologies.htm\n",
      "https://www.tutorialspoint.com/machine_learning/index.htm\n",
      "https://www.tutorialspoint.com/tensorflow/index.htm\n",
      "https://www.tutorialspoint.com/machine_learning_with_python/index.htm\n",
      "https://www.tutorialspoint.com/artificial_intelligence_with_python/index.htm\n",
      "https://www.tutorialspoint.com/time_series/index.htm\n",
      "https://www.tutorialspoint.com/pytorch/index.htm\n",
      "https://www.tutorialspoint.com/machine_learning_tutorials.htm\n",
      "https://www.tutorialspoint.com/computer_fundamentals/index.htm\n",
      "https://www.tutorialspoint.com/compiler_design/index.htm\n",
      "https://www.tutorialspoint.com/operating_system/index.htm\n",
      "https://www.tutorialspoint.com/data_structures_algorithms/index.htm\n",
      "https://www.tutorialspoint.com/dbms/index.htm\n",
      "https://www.tutorialspoint.com/data_communication_computer_network/index.htm\n",
      "https://www.tutorialspoint.com/computer_science_tutorials.htm\n",
      "https://www.tutorialspoint.com/html/index.htm\n",
      "https://www.tutorialspoint.com/css/index.htm\n",
      "https://www.tutorialspoint.com/javascript/index.htm\n",
      "https://www.tutorialspoint.com/php/index.htm\n",
      "https://www.tutorialspoint.com/angular4/index.htm\n",
      "https://www.tutorialspoint.com/mysql/index.htm\n",
      "https://www.tutorialspoint.com/web_development_tutorials.htm\n",
      "https://www.tutorialspoint.com/cprogramming/index.htm\n",
      "https://www.tutorialspoint.com/cplusplus/index.htm\n",
      "https://www.tutorialspoint.com/java8/index.htm\n",
      "https://www.tutorialspoint.com/python/index.htm\n",
      "https://www.tutorialspoint.com/scala/index.htm\n",
      "https://www.tutorialspoint.com/csharp/index.htm\n",
      "https://www.tutorialspoint.com/computer_programming_tutorials.htm\n",
      "https://www.tutorialspoint.com/java8/index.htm\n",
      "https://www.tutorialspoint.com/jdbc/index.htm\n",
      "https://www.tutorialspoint.com/servlets/index.htm\n",
      "https://www.tutorialspoint.com/spring/index.htm\n",
      "https://www.tutorialspoint.com/hibernate/index.htm\n",
      "https://www.tutorialspoint.com/swing/index.htm\n",
      "https://www.tutorialspoint.com/java_technology_tutorials.htm\n",
      "https://www.tutorialspoint.com/android/index.htm\n",
      "https://www.tutorialspoint.com/swift/index.htm\n",
      "https://www.tutorialspoint.com/ios/index.htm\n",
      "https://www.tutorialspoint.com/kotlin/index.htm\n",
      "https://www.tutorialspoint.com/react_native/index.htm\n",
      "https://www.tutorialspoint.com/xamarin/index.htm\n",
      "https://www.tutorialspoint.com/mobile_development_tutorials.htm\n",
      "https://www.tutorialspoint.com/mongodb/index.htm\n",
      "https://www.tutorialspoint.com/plsql/index.htm\n",
      "https://www.tutorialspoint.com/sql/index.htm\n",
      "https://www.tutorialspoint.com/db2/index.htm\n",
      "https://www.tutorialspoint.com/mysql/index.htm\n",
      "https://www.tutorialspoint.com/memcached/index.htm\n",
      "https://www.tutorialspoint.com/database_tutorials.htm\n",
      "https://www.tutorialspoint.com/asp.net/index.htm\n",
      "https://www.tutorialspoint.com/entity_framework/index.htm\n",
      "https://www.tutorialspoint.com/vb.net/index.htm\n",
      "https://www.tutorialspoint.com/ms_project/index.htm\n",
      "https://www.tutorialspoint.com/excel/index.htm\n",
      "https://www.tutorialspoint.com/word/index.htm\n",
      "https://www.tutorialspoint.com/microsoft_technologies_tutorials.htm\n",
      "https://www.tutorialspoint.com/big_data_analytics/index.htm\n",
      "https://www.tutorialspoint.com/hadoop/index.htm\n",
      "https://www.tutorialspoint.com/sas/index.htm\n",
      "https://www.tutorialspoint.com/qlikview/index.htm\n",
      "https://www.tutorialspoint.com/power_bi/index.htm\n",
      "https://www.tutorialspoint.com/tableau/index.htm\n",
      "https://www.tutorialspoint.com/big_data_tutorials.htm\n",
      "https://www.tutorialspoint.com/tutorialslibrary.htm\n",
      "https://www.tutorialspoint.com/codingground.htm\n",
      "https://www.tutorialspoint.com/coding_platform_for_websites.htm\n",
      "https://www.tutorialspoint.com/developers_best_practices/index.htm\n",
      "https://www.tutorialspoint.com/effective_resume_writing.htm\n",
      "https://www.tutorialspoint.com/computer_glossary.htm\n",
      "https://www.tutorialspoint.com/computer_whoiswho.htm\n",
      "https://www.tutorialspoint.com/questions_and_answers.htm\n",
      "https://www.tutorialspoint.com/multi_language_tutorials.htm\n",
      "https://itunes.apple.com/us/app/tutorials-point/id914891263?ls=1&mt=8\n",
      "https://play.google.com/store/apps/details?id=com.tutorialspoint.onlineviewer\n",
      "http://www.windowsphone.com/s?appid=91249671-7184-4ad6-8a5f-d11847946b09\n",
      "/about/index.htm\n",
      "/about/about_team.htm\n",
      "/about/about_careers.htm\n",
      "/about/about_privacy.htm\n",
      "/about/about_cookies.htm\n",
      "/about/about_terms_of_use.htm\n",
      "/investors/index.htm\n",
      "https://www.tutorialspoint.com/articles/\n",
      "https://www.tutorialspoint.com/online_dev_tools.htm\n",
      "https://www.tutorialspoint.com/free_web_graphics.htm\n",
      "https://www.tutorialspoint.com/online_file_conversion.htm\n",
      "https://www.tutorialspoint.com/shared-tutorials.php\n",
      "https://www.tutorialspoint.com/netmeeting.php\n",
      "https://www.tutorialspoint.com/free_online_whiteboard.htm\n",
      "http://www.tutorialspoint.com\n",
      "https://www.facebook.com/tutorialspointindia\n",
      "https://plus.google.com/u/0/+tutorialspoint\n",
      "http://www.twitter.com/tutorialspoint\n",
      "http://www.linkedin.com/company/tutorialspoint\n",
      "https://www.youtube.com/channel/UCVLbzhxVTiTLiVKeGV7WEBg\n",
      "https://www.tutorialspoint.com/index.htm\n",
      "/about/about_privacy.htm#cookies\n",
      "/about/faq.htm\n",
      "/about/about_helping.htm\n",
      "/about/contact_us.htm\n",
      "javascript:void(0)\n",
      "/about/about_cookies.htm\n"
     ]
    }
   ],
   "source": [
    "#to scrape a local file stored on the system \n",
    "file = open('downloaded.html').read()\n",
    "soup = BeautifulSoup(file)  \n",
    "\n",
    "#'find' returns first object in html file matching the requirement\n",
    "#'findAll' returns all matching objects\n",
    "\n",
    "#returns the first <h2> tag available in the page\n",
    "link = soup.find(\"h2\")\n",
    "\n",
    "#list of all the <a> tags\n",
    "links = soup.findAll(\"a\") \n",
    "\n",
    "print(\"printing all the links in the page : \\n\")\n",
    "#print all the href links available in <a> tag description\n",
    "for a_tag in links:\n",
    "    print(a_tag.get(\"href\"))"
   ]
  },
  {
   "cell_type": "code",
   "execution_count": 9,
   "metadata": {
    "collapsed": false,
    "scrolled": true
   },
   "outputs": [
    {
     "name": "stderr",
     "output_type": "stream",
     "text": [
      "C:\\Users\\MHR\\AppData\\Local\\Continuum\\Anaconda3\\lib\\site-packages\\urllib3\\connectionpool.py:852: InsecureRequestWarning: Unverified HTTPS request is being made. Adding certificate verification is strongly advised. See: https://urllib3.readthedocs.io/en/latest/advanced-usage.html#ssl-warnings\n",
      "  InsecureRequestWarning)\n"
     ]
    },
    {
     "name": "stdout",
     "output_type": "stream",
     "text": [
      "the table contents are : \n",
      "\n",
      "row 0 : []\n",
      "row 1 : ['Alfreds Futterkiste', 'Maria Anders', 'Germany', 'Alfreds Futterkiste', 'Maria Anders', 'Germany']\n",
      "row 2 : ['Centro comercial Moctezuma', 'Francisco Chang', 'Mexico', 'Centro comercial Moctezuma', 'Francisco Chang', 'Mexico']\n",
      "row 3 : ['Ernst Handel', 'Roland Mendel', 'Austria', 'Ernst Handel', 'Roland Mendel', 'Austria']\n",
      "row 4 : ['Island Trading', 'Helen Bennett', 'UK', 'Island Trading', 'Helen Bennett', 'UK']\n",
      "row 5 : ['Laughing Bacchus Winecellars', 'Yoshi Tannamuri', 'Canada', 'Laughing Bacchus Winecellars', 'Yoshi Tannamuri', 'Canada']\n",
      "row 6 : ['Magazzini Alimentari Riuniti', 'Giovanni Rovelli', 'Italy', 'Magazzini Alimentari Riuniti', 'Giovanni Rovelli', 'Italy']\n"
     ]
    }
   ],
   "source": [
    "#To scrape a table in webpage\n",
    "\n",
    "response = http.request('GET', \"https://www.w3schools.com/html/html_tables.asp\")   #returns a HTTPresponse object\n",
    "soup = BeautifulSoup(response.data,'lxml')\n",
    "\n",
    "table = soup.find('table')\n",
    "\n",
    "#prints all the rows in the table\n",
    "table_rows = table.findAll('tr')\n",
    "#print(table_rows)\n",
    "\n",
    "print('the table contents are : \\n')\n",
    "#find table data between tr tags\n",
    "for idx, row in enumerate(table_rows):\n",
    "    tds = row.findAll('td')\n",
    "    #to extract the table headers\n",
    "    if tds is None:\n",
    "        tds = row.findAll('th')\n",
    "    row_data = [i.text for i in tds]   #list the data in the all the cells in the row\n",
    "    row_data += [i.text for i in tds]\n",
    "    print(\"row\", idx, \":\", row_data)"
   ]
  },
  {
   "cell_type": "code",
   "execution_count": null,
   "metadata": {
    "collapsed": true
   },
   "outputs": [],
   "source": []
  }
 ],
 "metadata": {
  "kernelspec": {
   "display_name": "Python 3",
   "language": "python",
   "name": "python3"
  },
  "language_info": {
   "codemirror_mode": {
    "name": "ipython",
    "version": 3
   },
   "file_extension": ".py",
   "mimetype": "text/x-python",
   "name": "python",
   "nbconvert_exporter": "python",
   "pygments_lexer": "ipython3",
   "version": "3.6.0"
  }
 },
 "nbformat": 4,
 "nbformat_minor": 2
}
