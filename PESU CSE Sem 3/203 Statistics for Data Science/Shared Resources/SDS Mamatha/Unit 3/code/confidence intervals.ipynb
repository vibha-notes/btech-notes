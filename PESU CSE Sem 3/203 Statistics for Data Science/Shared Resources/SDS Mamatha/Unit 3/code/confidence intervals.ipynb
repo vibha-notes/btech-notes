{
 "cells": [
  {
   "cell_type": "code",
   "execution_count": 2,
   "metadata": {
    "collapsed": false
   },
   "outputs": [
    {
     "name": "stdout",
     "output_type": "stream",
     "text": [
      "Proportion of CIs covering Pop mean 0.97\n"
     ]
    },
    {
     "data": {
      "image/png": "[encoded data removed]",
      "text/plain": [
       "<matplotlib.figure.Figure at 0x7f6a60160208>"
      ]
     },
     "metadata": {},
     "output_type": "display_data"
    }
   ],
   "source": [
    "%matplotlib inline\n",
    "import matplotlib.pyplot as plt\n",
    "import pandas as pd\n",
    "import numpy as np\n",
    "from math import sqrt\n",
    "from scipy.stats import norm\n",
    "import random\n",
    "\n",
    "population = np.arange(1, 10**4) #random population\n",
    "pop_mean = np.mean(population)\n",
    "\n",
    "def sampling(sample_size, no_of_samples):\n",
    "    sample_means = []\n",
    "    intervals = []\n",
    "    count = 0\n",
    "    for i in range(no_of_samples):\n",
    "        #a sample of size sample_size will be taken from the heights\n",
    "        sample = random.sample(list(population), sample_size)\n",
    "        #mean of the samples appended to sample_means\n",
    "        sample_means.append(np.mean(sample))\n",
    "        #ci contains lower and upper bound of interval with 0.95 confidence\n",
    "        ci = norm.interval(0.95, np.mean(sample), \n",
    "                            np.std(sample, ddof =1)/sqrt(sample_size))\n",
    "        intervals.append(ci)\n",
    "        #upcount only if pop_mean lies in confidence interval\n",
    "        if pop_mean >= ci[0] and pop_mean <= ci[1]:\n",
    "            count = count + 1\n",
    "            \n",
    "    print('Proportion of CIs covering Pop mean', count/no_of_samples)\n",
    "    plt.figure(figsize=(15,5))\n",
    "    #print the horizontal line which is pop_mean\n",
    "    plt.hlines(y = pop_mean, xmin = 0, xmax = 100, color ='r')\n",
    "    #print the sample lines with their means indicated as 'o'\n",
    "    plt.errorbar(np.arange(0.1, 100, 1), sample_means, fmt = 'o', yerr = [(upp - low)/2 for low, upp in intervals])\n",
    "    plt.show()\n",
    "    \n",
    "#pass sample_size, no_of_samples\n",
    "sampling(1000, 100)"
   ]
  },
  {
   "cell_type": "code",
   "execution_count": 11,
   "metadata": {
    "collapsed": true
   },
   "outputs": [],
   "source": [
    "#CI for population where 85% of the people say YES to a certain question\n",
    "import numpy as np\n",
    "import matplotlib.pyplot as plt\n",
    "from random import sample\n",
    "import scipy.stats as st\n",
    "import math\n",
    "\n",
    "#parameters....population, required_CI, sample_size, no_of_samples\n",
    "def CI(pop, ci, samp_size, no_of_samples):\n",
    "    print(\"\\nfor ci of\", ci, \"sample_size\", samp_size)\n",
    "    pop_mean = np.mean(pop)\n",
    "    print('actual mean :',pop_mean)\n",
    "    \n",
    "    #calculation of same using CI\n",
    "    samp_means = []      #mean of all the samples \n",
    "    for i in range(no_of_samples):\n",
    "        samp_means.append(np.mean(sample(pop, samp_size)))\n",
    "    \n",
    "    #calculation of interval\n",
    "    print('mean of samples :', np.mean(samp_means))\n",
    "    pop_stdev = np.std(samp_means) / math.sqrt(samp_size)\n",
    "    z = st.norm.ppf(ci)\n",
    "    print(\"confidence interval :\", pop_mean, \"+-\", z*pop_stdev)\n",
    "    plt.hist(samp_means)\n",
    "    plt.show()\n",
    "    \n",
    "pop = sample(range(1, 2*10**5), 10**4)  #random population generation\n"
   ]
  },
  {
   "cell_type": "code",
   "execution_count": 16,
   "metadata": {
    "collapsed": false
   },
   "outputs": [
    {
     "name": "stdout",
     "output_type": "stream",
     "text": [
      "\n",
      "for ci of 0.85 sample_size 1000\n",
      "actual mean : 99255.7266\n",
      "mean of samples : 99450.229895\n",
      "confidence interval : 99255.7266 +- 56.7687989942\n"
     ]
    },
    {
     "data": {
      "image/png": "[encoded data removed]",
      "text/plain": [
       "<matplotlib.figure.Figure at 0x7f6a60255320>"
      ]
     },
     "metadata": {},
     "output_type": "display_data"
    },
    {
     "name": "stdout",
     "output_type": "stream",
     "text": [
      "\n",
      "for ci of 0.85 sample_size 1000\n",
      "actual mean : 99255.7266\n",
      "mean of samples : 99316.949796\n",
      "confidence interval : 99255.7266 +- 58.4244367865\n"
     ]
    },
    {
     "data": {
      "image/png": "[encoded data removed]",
      "text/plain": [
       "<matplotlib.figure.Figure at 0x7f6a940c70b8>"
      ]
     },
     "metadata": {},
     "output_type": "display_data"
    },
    {
     "name": "stdout",
     "output_type": "stream",
     "text": [
      "\n",
      "for ci of 0.85 sample_size 1000\n",
      "actual mean : 99255.7266\n",
      "mean of samples : 99307.566291\n",
      "confidence interval : 99255.7266 +- 58.3558822124\n"
     ]
    },
    {
     "data": {
      "image/png": "[encoded data removed]",
      "text/plain": [
       "<matplotlib.figure.Figure at 0x7f6a940be048>"
      ]
     },
     "metadata": {},
     "output_type": "display_data"
    }
   ],
   "source": [
    "#varying no_of_samples\n",
    "CI(pop, 0.85, 1000, 200)\n",
    "CI(pop, 0.85, 1000, 500)\n",
    "CI(pop, 0.85, 1000, 1000)\n",
    "#shape of the curve becomes normal as the no of samples increases(samp_mean better approx of actual mean)"
   ]
  },
  {
   "cell_type": "code",
   "execution_count": 13,
   "metadata": {
    "collapsed": false
   },
   "outputs": [
    {
     "name": "stdout",
     "output_type": "stream",
     "text": [
      "\n",
      "for ci of 0.85 sample_size 100\n",
      "actual mean : 99255.7266\n",
      "mean of samples : 99290.15638\n",
      "confidence interval : 99255.7266 +- 627.983753586\n"
     ]
    },
    {
     "data": {
      "image/png": "[encoded data removed]",
      "text/plain": [
       "<matplotlib.figure.Figure at 0x7f6a6006b860>"
      ]
     },
     "metadata": {},
     "output_type": "display_data"
    },
    {
     "name": "stdout",
     "output_type": "stream",
     "text": [
      "\n",
      "for ci of 0.85 sample_size 500\n",
      "actual mean : 99255.7266\n",
      "mean of samples : 99158.478848\n",
      "confidence interval : 99255.7266 +- 113.013659542\n"
     ]
    },
    {
     "data": {
      "image/png": "[encoded data removed]",
      "text/plain": [
       "<matplotlib.figure.Figure at 0x7f6a600b24e0>"
      ]
     },
     "metadata": {},
     "output_type": "display_data"
    },
    {
     "name": "stdout",
     "output_type": "stream",
     "text": [
      "\n",
      "for ci of 0.85 sample_size 1000\n",
      "actual mean : 99255.7266\n",
      "mean of samples : 99159.068242\n",
      "confidence interval : 99255.7266 +- 57.6254984373\n"
     ]
    },
    {
     "data": {
      "image/png": "[encoded data removed]",
      "text/plain": [
       "<matplotlib.figure.Figure at 0x7f6a5fe17dd8>"
      ]
     },
     "metadata": {},
     "output_type": "display_data"
    }
   ],
   "source": [
    "#varying sample size\n",
    "CI(pop, 0.85, 100, 500)\n",
    "CI(pop, 0.85, 500, 500)\n",
    "CI(pop, 0.85, 1000, 500)\n",
    "#reduction in the size of interval as sample_size increases(better approx of population)"
   ]
  },
  {
   "cell_type": "code",
   "execution_count": null,
   "metadata": {
    "collapsed": true
   },
   "outputs": [],
   "source": []
  }
 ],
 "metadata": {
  "kernelspec": {
   "display_name": "Python 3",
   "language": "python",
   "name": "python3"
  },
  "language_info": {
   "codemirror_mode": {
    "name": "ipython",
    "version": 3
   },
   "file_extension": ".py",
   "mimetype": "text/x-python",
   "name": "python",
   "nbconvert_exporter": "python",
   "pygments_lexer": "ipython3",
   "version": "3.6.0"
  }
 },
 "nbformat": 4,
 "nbformat_minor": 2
}
